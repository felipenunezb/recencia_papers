{
  "nbformat": 4,
  "nbformat_minor": 0,
  "metadata": {
    "colab": {
      "name": "Recencia_Complete_Demo.ipynb",
      "provenance": [],
      "collapsed_sections": []
    },
    "kernelspec": {
      "name": "python3",
      "display_name": "Python 3"
    },
    "language_info": {
      "name": "python"
    },
    "accelerator": "GPU"
  },
  "cells": [
    {
      "cell_type": "code",
      "metadata": {
        "id": "dfP8W5CCoSp_"
      },
      "source": [
        "%%capture\n",
        "!pip install catboost"
      ],
      "execution_count": 1,
      "outputs": []
    },
    {
      "cell_type": "code",
      "metadata": {
        "id": "Ey1wceQGoqcS"
      },
      "source": [
        "%%capture\n",
        "!pip install transformers"
      ],
      "execution_count": 2,
      "outputs": []
    },
    {
      "cell_type": "code",
      "metadata": {
        "colab": {
          "base_uri": "https://localhost:8080/"
        },
        "id": "DAKLYeYVoDU9",
        "outputId": "ac648b27-b2d6-46bd-b34c-e06b603114fb"
      },
      "source": [
        "%cd /content/\n",
        "!git clone https://github.com/felipenunezb/recencia_papers"
      ],
      "execution_count": 3,
      "outputs": [
        {
          "output_type": "stream",
          "name": "stdout",
          "text": [
            "/content\n",
            "Cloning into 'recencia_papers'...\n",
            "remote: Enumerating objects: 29, done.\u001b[K\n",
            "remote: Counting objects: 100% (29/29), done.\u001b[K\n",
            "remote: Compressing objects: 100% (18/18), done.\u001b[K\n",
            "remote: Total 29 (delta 12), reused 23 (delta 10), pack-reused 0\u001b[K\n",
            "Unpacking objects: 100% (29/29), done.\n"
          ]
        }
      ]
    },
    {
      "cell_type": "code",
      "metadata": {
        "id": "fsh_ukT7pg7G"
      },
      "source": [
        "%%capture\n",
        "!wget -O 'train.csv' 'https://www.datasource.ai/es/home/competitions/download_dataset/predecir-el-puntaje-de-recencia-en-papers-de-investigacion'\n",
        "!wget -O 'test.csv' 'https://www.datasource.ai/es/home/competitions/download_dataset_test/predecir-el-puntaje-de-recencia-en-papers-de-investigacion'"
      ],
      "execution_count": 4,
      "outputs": []
    },
    {
      "cell_type": "markdown",
      "metadata": {
        "id": "4BtRp8RAr37P"
      },
      "source": [
        "## Generate Embeddings"
      ]
    },
    {
      "cell_type": "markdown",
      "metadata": {
        "id": "yN68B36Jsdox"
      },
      "source": [
        "#### Training Set"
      ]
    },
    {
      "cell_type": "code",
      "metadata": {
        "colab": {
          "base_uri": "https://localhost:8080/"
        },
        "id": "yYrTSC-npV0P",
        "outputId": "a280b0b5-fc14-4fba-db67-5094bdc73653"
      },
      "source": [
        "!python /content/recencia_papers/prepare_data.py \\\n",
        "  --input_file '/content/train.csv' \\\n",
        "  --max_length 250 \\\n",
        "  --output_dir '/content/embeddings/' \\\n",
        "  --do_train"
      ],
      "execution_count": 6,
      "outputs": [
        {
          "output_type": "stream",
          "name": "stdout",
          "text": [
            "09/05/2021 02:14:57 - INFO - __main__ - reading and splitting languages.\n",
            "09/05/2021 02:14:58 - INFO - __main__ - Loading transformers models.\n",
            "09/05/2021 02:14:58 - INFO - __main__ - English\n",
            "Some weights of the model checkpoint at distilroberta-base were not used when initializing RobertaModel: ['lm_head.decoder.weight', 'lm_head.layer_norm.bias', 'lm_head.dense.weight', 'lm_head.bias', 'lm_head.layer_norm.weight', 'lm_head.dense.bias']\n",
            "- This IS expected if you are initializing RobertaModel from the checkpoint of a model trained on another task or with another architecture (e.g. initializing a BertForSequenceClassification model from a BertForPreTraining model).\n",
            "- This IS NOT expected if you are initializing RobertaModel from the checkpoint of a model that you expect to be exactly identical (initializing a BertForSequenceClassification model from a BertForSequenceClassification model).\n",
            "100% 18539/18539 [08:17<00:00, 37.26it/s]\n",
            "09/05/2021 02:23:18 - INFO - __main__ - Portuguese\n",
            "09/05/2021 02:23:18 - INFO - filelock - Lock 139758219211472 acquired on /root/.cache/huggingface/transformers/f1a9ba41d40e8c6f5ba4988aa2f7702c3b43768183e4b82483e04f2848841ecf.a6c00251b9344c189e2419373d6033016d0cd3d87ea59f6c86069046ac81956d.lock\n",
            "Downloading: 100% 43.0/43.0 [00:00<00:00, 36.8kB/s]\n",
            "09/05/2021 02:23:18 - INFO - filelock - Lock 139758219211472 released on /root/.cache/huggingface/transformers/f1a9ba41d40e8c6f5ba4988aa2f7702c3b43768183e4b82483e04f2848841ecf.a6c00251b9344c189e2419373d6033016d0cd3d87ea59f6c86069046ac81956d.lock\n",
            "09/05/2021 02:23:18 - INFO - filelock - Lock 139758117760272 acquired on /root/.cache/huggingface/transformers/e716e2151985ba669e7197b64cdde2552acee146494d40ffaf0688a3f152e6ed.18a0b8b86f3ebd4c8a1d8d6199178feae9971ff5420f1d12f0ed8326ffdff716.lock\n",
            "Downloading: 100% 647/647 [00:00<00:00, 613kB/s]\n",
            "09/05/2021 02:23:19 - INFO - filelock - Lock 139758117760272 released on /root/.cache/huggingface/transformers/e716e2151985ba669e7197b64cdde2552acee146494d40ffaf0688a3f152e6ed.18a0b8b86f3ebd4c8a1d8d6199178feae9971ff5420f1d12f0ed8326ffdff716.lock\n",
            "09/05/2021 02:23:19 - INFO - filelock - Lock 139758117901008 acquired on /root/.cache/huggingface/transformers/aa6d50227b77416b26162efcf0cc9e9a702d13920840322060a2b41a44a8aff4.af25fb1e29ad0175300146695fd80069be69b211c52fa5486fa8aae2754cc814.lock\n",
            "Downloading: 100% 210k/210k [00:00<00:00, 2.45MB/s]\n",
            "09/05/2021 02:23:19 - INFO - filelock - Lock 139758117901008 released on /root/.cache/huggingface/transformers/aa6d50227b77416b26162efcf0cc9e9a702d13920840322060a2b41a44a8aff4.af25fb1e29ad0175300146695fd80069be69b211c52fa5486fa8aae2754cc814.lock\n",
            "09/05/2021 02:23:19 - INFO - filelock - Lock 139758117899088 acquired on /root/.cache/huggingface/transformers/9188d297517828a862f4e0b0700968574ca7ad38fbc0832c409bf7a9e5576b74.5cc6e825eb228a7a5cfd27cb4d7151e97a79fb962b31aaf1813aa102e746584b.lock\n",
            "Downloading: 100% 2.00/2.00 [00:00<00:00, 1.90kB/s]\n",
            "09/05/2021 02:23:19 - INFO - filelock - Lock 139758117899088 released on /root/.cache/huggingface/transformers/9188d297517828a862f4e0b0700968574ca7ad38fbc0832c409bf7a9e5576b74.5cc6e825eb228a7a5cfd27cb4d7151e97a79fb962b31aaf1813aa102e746584b.lock\n",
            "09/05/2021 02:23:20 - INFO - filelock - Lock 139758117969232 acquired on /root/.cache/huggingface/transformers/eecc45187d085a1169eed91017d358cc0e9cbdd5dc236bcd710059dbf0a2f816.dd8bd9bfd3664b530ea4e645105f557769387b3da9f79bdb55ed556bdd80611d.lock\n",
            "Downloading: 100% 112/112 [00:00<00:00, 93.7kB/s]\n",
            "09/05/2021 02:23:20 - INFO - filelock - Lock 139758117969232 released on /root/.cache/huggingface/transformers/eecc45187d085a1169eed91017d358cc0e9cbdd5dc236bcd710059dbf0a2f816.dd8bd9bfd3664b530ea4e645105f557769387b3da9f79bdb55ed556bdd80611d.lock\n",
            "09/05/2021 02:23:20 - INFO - filelock - Lock 139758185377680 acquired on /root/.cache/huggingface/transformers/1e42c907c340c902923496246dae63e33f64955c529720991b7ec5543a98e442.fa492fca6dcee85bef053cc60912a211feb1f7173129e4eb1a5164e817f2f5f2.lock\n",
            "Downloading: 100% 438M/438M [00:15<00:00, 27.9MB/s]\n",
            "09/05/2021 02:23:36 - INFO - filelock - Lock 139758185377680 released on /root/.cache/huggingface/transformers/1e42c907c340c902923496246dae63e33f64955c529720991b7ec5543a98e442.fa492fca6dcee85bef053cc60912a211feb1f7173129e4eb1a5164e817f2f5f2.lock\n",
            "Some weights of the model checkpoint at neuralmind/bert-base-portuguese-cased were not used when initializing BertModel: ['cls.predictions.transform.dense.weight', 'cls.predictions.transform.LayerNorm.bias', 'cls.predictions.decoder.weight', 'cls.predictions.bias', 'cls.seq_relationship.bias', 'cls.predictions.transform.dense.bias', 'cls.seq_relationship.weight', 'cls.predictions.transform.LayerNorm.weight']\n",
            "- This IS expected if you are initializing BertModel from the checkpoint of a model trained on another task or with another architecture (e.g. initializing a BertForSequenceClassification model from a BertForPreTraining model).\n",
            "- This IS NOT expected if you are initializing BertModel from the checkpoint of a model that you expect to be exactly identical (initializing a BertForSequenceClassification model from a BertForSequenceClassification model).\n",
            "100% 1539/1539 [01:18<00:00, 19.71it/s]\n",
            "09/05/2021 02:24:55 - INFO - __main__ - Spanish\n",
            "09/05/2021 02:24:56 - INFO - filelock - Lock 139758115926992 acquired on /root/.cache/huggingface/transformers/ca34e6c1251888a8ed98da2a454f869d28e3438eef67c2f93aa8133459ac08a3.0e90f656d0426b15b4927d1fe8ca5ec4c2e7b0d0e878c9153c3ddc6ed9bbed3c.lock\n",
            "Downloading: 100% 364/364 [00:00<00:00, 306kB/s]\n",
            "09/05/2021 02:24:56 - INFO - filelock - Lock 139758115926992 released on /root/.cache/huggingface/transformers/ca34e6c1251888a8ed98da2a454f869d28e3438eef67c2f93aa8133459ac08a3.0e90f656d0426b15b4927d1fe8ca5ec4c2e7b0d0e878c9153c3ddc6ed9bbed3c.lock\n",
            "09/05/2021 02:24:56 - INFO - filelock - Lock 139758131268112 acquired on /root/.cache/huggingface/transformers/cb7cedb04246e225d56ba26d207f1d1809b31a9bbe9b63103371d835c6ac0502.f4e4777229bac528fa2a8d4833e2ef53624e985ebde0fd527064a5cc7c50832b.lock\n",
            "Downloading: 100% 648/648 [00:00<00:00, 557kB/s]\n",
            "09/05/2021 02:24:56 - INFO - filelock - Lock 139758131268112 released on /root/.cache/huggingface/transformers/cb7cedb04246e225d56ba26d207f1d1809b31a9bbe9b63103371d835c6ac0502.f4e4777229bac528fa2a8d4833e2ef53624e985ebde0fd527064a5cc7c50832b.lock\n",
            "09/05/2021 02:24:56 - INFO - filelock - Lock 139758141587664 acquired on /root/.cache/huggingface/transformers/6761cd0c3d282272f598fcc1fa8c4ecfff8c18762ec8acb40f9cbb562cb0901e.6587bde86239957281af55b2f7e564df111a2b4f9dfc0ad884f13ea7106e4dfb.lock\n",
            "Downloading: 100% 242k/242k [00:00<00:00, 2.88MB/s]\n",
            "09/05/2021 02:24:56 - INFO - filelock - Lock 139758141587664 released on /root/.cache/huggingface/transformers/6761cd0c3d282272f598fcc1fa8c4ecfff8c18762ec8acb40f9cbb562cb0901e.6587bde86239957281af55b2f7e564df111a2b4f9dfc0ad884f13ea7106e4dfb.lock\n",
            "09/05/2021 02:24:57 - INFO - filelock - Lock 139758131270736 acquired on /root/.cache/huggingface/transformers/44de7af89c157bf67367a71105165d92bebe0585543739a918e3870d25484c27.6a099cd4b12bf7db174fffe48b004eb919c325f108e0c36176a0fe0ad1848d31.lock\n",
            "Downloading: 100% 480k/480k [00:00<00:00, 3.95MB/s]\n",
            "09/05/2021 02:24:57 - INFO - filelock - Lock 139758131270736 released on /root/.cache/huggingface/transformers/44de7af89c157bf67367a71105165d92bebe0585543739a918e3870d25484c27.6a099cd4b12bf7db174fffe48b004eb919c325f108e0c36176a0fe0ad1848d31.lock\n",
            "09/05/2021 02:24:57 - INFO - filelock - Lock 139758141595536 acquired on /root/.cache/huggingface/transformers/9848a00af462c42dfb4ec88ef438fbab5256330f7f6f50badc48d277f9367d49.f982506b52498d4adb4bd491f593dc92b2ef6be61bfdbe9d30f53f963f9f5b66.lock\n",
            "Downloading: 100% 134/134 [00:00<00:00, 122kB/s]\n",
            "09/05/2021 02:24:57 - INFO - filelock - Lock 139758141595536 released on /root/.cache/huggingface/transformers/9848a00af462c42dfb4ec88ef438fbab5256330f7f6f50badc48d277f9367d49.f982506b52498d4adb4bd491f593dc92b2ef6be61bfdbe9d30f53f963f9f5b66.lock\n",
            "09/05/2021 02:24:58 - INFO - filelock - Lock 139758142382416 acquired on /root/.cache/huggingface/transformers/52382cbe7c1587c6b588daa81eaf247c5e2ad073d42b52192a8cd4202e7429b6.a88ccd19b1f271e63b6a901510804e6c0318089355c471334fe8b71b316a30ab.lock\n",
            "Downloading: 100% 440M/440M [00:16<00:00, 26.2MB/s]\n",
            "09/05/2021 02:25:15 - INFO - filelock - Lock 139758142382416 released on /root/.cache/huggingface/transformers/52382cbe7c1587c6b588daa81eaf247c5e2ad073d42b52192a8cd4202e7429b6.a88ccd19b1f271e63b6a901510804e6c0318089355c471334fe8b71b316a30ab.lock\n",
            "Some weights of the model checkpoint at dccuchile/bert-base-spanish-wwm-cased were not used when initializing BertModel: ['cls.predictions.transform.dense.weight', 'cls.predictions.transform.LayerNorm.bias', 'cls.predictions.decoder.weight', 'cls.predictions.bias', 'cls.predictions.transform.dense.bias', 'cls.predictions.decoder.bias', 'cls.predictions.transform.LayerNorm.weight']\n",
            "- This IS expected if you are initializing BertModel from the checkpoint of a model trained on another task or with another architecture (e.g. initializing a BertForSequenceClassification model from a BertForPreTraining model).\n",
            "- This IS NOT expected if you are initializing BertModel from the checkpoint of a model that you expect to be exactly identical (initializing a BertForSequenceClassification model from a BertForSequenceClassification model).\n",
            "Some weights of BertModel were not initialized from the model checkpoint at dccuchile/bert-base-spanish-wwm-cased and are newly initialized: ['bert.pooler.dense.bias', 'bert.pooler.dense.weight']\n",
            "You should probably TRAIN this model on a down-stream task to be able to use it for predictions and inference.\n",
            "100% 1378/1378 [01:09<00:00, 19.76it/s]\n",
            "09/05/2021 02:26:26 - INFO - __main__ - Embeddings done.\n"
          ]
        }
      ]
    },
    {
      "cell_type": "markdown",
      "metadata": {
        "id": "HXfh405GsfHy"
      },
      "source": [
        "#### Test Set"
      ]
    },
    {
      "cell_type": "code",
      "metadata": {
        "colab": {
          "base_uri": "https://localhost:8080/"
        },
        "id": "AAx8yD1rsg-S",
        "outputId": "2eeedab3-e226-4172-8403-51d892a9deda"
      },
      "source": [
        "!python /content/recencia_papers/prepare_data.py \\\n",
        "  --input_file '/content/test.csv' \\\n",
        "  --max_length 250 \\\n",
        "  --output_dir '/content/embeddings/' \\\n",
        "  --do_predict"
      ],
      "execution_count": 8,
      "outputs": [
        {
          "output_type": "stream",
          "name": "stdout",
          "text": [
            "09/05/2021 02:32:48 - INFO - __main__ - reading and splitting languages.\n",
            "09/05/2021 02:32:48 - INFO - __main__ - Loading transformers models.\n",
            "09/05/2021 02:32:48 - INFO - __main__ - English\n",
            "Some weights of the model checkpoint at distilroberta-base were not used when initializing RobertaModel: ['lm_head.dense.bias', 'lm_head.bias', 'lm_head.layer_norm.weight', 'lm_head.dense.weight', 'lm_head.decoder.weight', 'lm_head.layer_norm.bias']\n",
            "- This IS expected if you are initializing RobertaModel from the checkpoint of a model trained on another task or with another architecture (e.g. initializing a BertForSequenceClassification model from a BertForPreTraining model).\n",
            "- This IS NOT expected if you are initializing RobertaModel from the checkpoint of a model that you expect to be exactly identical (initializing a BertForSequenceClassification model from a BertForSequenceClassification model).\n",
            "100% 9193/9193 [04:07<00:00, 37.18it/s]\n",
            "09/05/2021 02:36:58 - INFO - __main__ - Portuguese\n",
            "Some weights of the model checkpoint at neuralmind/bert-base-portuguese-cased were not used when initializing BertModel: ['cls.predictions.transform.LayerNorm.weight', 'cls.seq_relationship.weight', 'cls.predictions.decoder.weight', 'cls.predictions.bias', 'cls.predictions.transform.dense.weight', 'cls.seq_relationship.bias', 'cls.predictions.transform.dense.bias', 'cls.predictions.transform.LayerNorm.bias']\n",
            "- This IS expected if you are initializing BertModel from the checkpoint of a model trained on another task or with another architecture (e.g. initializing a BertForSequenceClassification model from a BertForPreTraining model).\n",
            "- This IS NOT expected if you are initializing BertModel from the checkpoint of a model that you expect to be exactly identical (initializing a BertForSequenceClassification model from a BertForSequenceClassification model).\n",
            "100% 838/838 [00:42<00:00, 19.57it/s]\n",
            "09/05/2021 02:37:43 - INFO - __main__ - Spanish\n",
            "Some weights of the model checkpoint at dccuchile/bert-base-spanish-wwm-cased were not used when initializing BertModel: ['cls.predictions.transform.LayerNorm.weight', 'cls.predictions.decoder.bias', 'cls.predictions.decoder.weight', 'cls.predictions.bias', 'cls.predictions.transform.dense.weight', 'cls.predictions.transform.dense.bias', 'cls.predictions.transform.LayerNorm.bias']\n",
            "- This IS expected if you are initializing BertModel from the checkpoint of a model trained on another task or with another architecture (e.g. initializing a BertForSequenceClassification model from a BertForPreTraining model).\n",
            "- This IS NOT expected if you are initializing BertModel from the checkpoint of a model that you expect to be exactly identical (initializing a BertForSequenceClassification model from a BertForSequenceClassification model).\n",
            "Some weights of BertModel were not initialized from the model checkpoint at dccuchile/bert-base-spanish-wwm-cased and are newly initialized: ['bert.pooler.dense.bias', 'bert.pooler.dense.weight']\n",
            "You should probably TRAIN this model on a down-stream task to be able to use it for predictions and inference.\n",
            "100% 697/697 [00:35<00:00, 19.57it/s]\n",
            "09/05/2021 02:38:22 - INFO - __main__ - Embeddings done.\n"
          ]
        }
      ]
    },
    {
      "cell_type": "markdown",
      "metadata": {
        "id": "tmRjREZAr8oB"
      },
      "source": [
        "## Train Models"
      ]
    },
    {
      "cell_type": "code",
      "metadata": {
        "colab": {
          "base_uri": "https://localhost:8080/"
        },
        "id": "xHsjdsAarwhy",
        "outputId": "a8b7ce9b-ce27-4659-8c55-7c00843f52d7"
      },
      "source": [
        "!python /content/recencia_papers/train.py \\\n",
        "  --input_file '/content/train.csv' \\\n",
        "  --emb_folder '/content/embeddings/' \\\n",
        "  --output_dir '/content/models/' \\\n",
        "  --do_train"
      ],
      "execution_count": 9,
      "outputs": [
        {
          "output_type": "stream",
          "name": "stdout",
          "text": [
            "09/05/2021 02:39:08 - INFO - __main__ - Training\n",
            "09/05/2021 02:39:08 - INFO - __main__ - Training on: en data.\n",
            "0it [00:00, ?it/s]Metric MSLE is not implemented on GPU. Will use CPU for metric computation, this could significantly affect learning time\n",
            "1it [00:33, 33.92s/it]Metric MSLE is not implemented on GPU. Will use CPU for metric computation, this could significantly affect learning time\n",
            "2it [01:20, 41.20s/it]Metric MSLE is not implemented on GPU. Will use CPU for metric computation, this could significantly affect learning time\n",
            "3it [01:48, 35.29s/it]Metric MSLE is not implemented on GPU. Will use CPU for metric computation, this could significantly affect learning time\n",
            "4it [02:22, 34.75s/it]Metric MSLE is not implemented on GPU. Will use CPU for metric computation, this could significantly affect learning time\n",
            "5it [02:58, 35.62s/it]\n",
            "09/05/2021 02:42:07 - INFO - __main__ - Training on: pt data.\n",
            "0it [00:00, ?it/s]Metric MSLE is not implemented on GPU. Will use CPU for metric computation, this could significantly affect learning time\n",
            "1it [00:04,  4.24s/it]Metric MSLE is not implemented on GPU. Will use CPU for metric computation, this could significantly affect learning time\n",
            "2it [00:08,  4.08s/it]Metric MSLE is not implemented on GPU. Will use CPU for metric computation, this could significantly affect learning time\n",
            "3it [00:12,  3.99s/it]Metric MSLE is not implemented on GPU. Will use CPU for metric computation, this could significantly affect learning time\n",
            "4it [00:15,  3.91s/it]Metric MSLE is not implemented on GPU. Will use CPU for metric computation, this could significantly affect learning time\n",
            "5it [00:19,  3.92s/it]\n",
            "09/05/2021 02:42:26 - INFO - __main__ - Training on: es data.\n",
            "0it [00:00, ?it/s]Metric MSLE is not implemented on GPU. Will use CPU for metric computation, this could significantly affect learning time\n",
            "1it [00:29, 29.01s/it]Metric MSLE is not implemented on GPU. Will use CPU for metric computation, this could significantly affect learning time\n",
            "2it [00:40, 18.71s/it]Metric MSLE is not implemented on GPU. Will use CPU for metric computation, this could significantly affect learning time\n",
            "3it [00:50, 14.79s/it]Metric MSLE is not implemented on GPU. Will use CPU for metric computation, this could significantly affect learning time\n",
            "4it [01:13, 18.06s/it]Metric MSLE is not implemented on GPU. Will use CPU for metric computation, this could significantly affect learning time\n",
            "5it [01:25, 17.03s/it]\n",
            "09/05/2021 02:43:51 - INFO - __main__ - Training Done.\n"
          ]
        }
      ]
    },
    {
      "cell_type": "markdown",
      "metadata": {
        "id": "FOpM6Ab2sW3I"
      },
      "source": [
        "## Predict"
      ]
    },
    {
      "cell_type": "code",
      "metadata": {
        "colab": {
          "base_uri": "https://localhost:8080/"
        },
        "id": "8Lhej2udsYai",
        "outputId": "5263409a-f267-4b62-dba6-7efa402e8651"
      },
      "source": [
        "!python /content/recencia_papers/predict.py \\\n",
        "  --input_file '/content/test.csv' \\\n",
        "  --emb_folder '/content/embeddings/' \\\n",
        "  --models_folder '/content/models/' \\\n",
        "  --output_dir '/content/predictions/' \\\n",
        "  --do_predict"
      ],
      "execution_count": 11,
      "outputs": [
        {
          "output_type": "stream",
          "name": "stdout",
          "text": [
            "09/05/2021 02:47:38 - INFO - __main__ - Training\n",
            "09/05/2021 02:47:38 - INFO - __main__ - Predicting on: en data.\n",
            "09/05/2021 02:47:38 - INFO - __main__ - Lang: en - Fold: 0\n",
            "09/05/2021 02:47:41 - INFO - __main__ - Lang: en - Fold: 1\n",
            "09/05/2021 02:47:43 - INFO - __main__ - Lang: en - Fold: 2\n",
            "09/05/2021 02:47:46 - INFO - __main__ - Lang: en - Fold: 3\n",
            "09/05/2021 02:47:48 - INFO - __main__ - Lang: en - Fold: 4\n",
            "09/05/2021 02:47:51 - INFO - __main__ - Lang en: predict the mean.\n",
            "09/05/2021 02:47:51 - INFO - __main__ - Predicting on: pt data.\n",
            "09/05/2021 02:47:51 - INFO - __main__ - Lang: pt - Fold: 0\n",
            "09/05/2021 02:47:51 - INFO - __main__ - Lang: pt - Fold: 1\n",
            "09/05/2021 02:47:52 - INFO - __main__ - Lang: pt - Fold: 2\n",
            "09/05/2021 02:47:52 - INFO - __main__ - Lang: pt - Fold: 3\n",
            "09/05/2021 02:47:52 - INFO - __main__ - Lang: pt - Fold: 4\n",
            "09/05/2021 02:47:52 - INFO - __main__ - Lang pt: predict the mean.\n",
            "09/05/2021 02:47:52 - INFO - __main__ - Predicting on: es data.\n",
            "09/05/2021 02:47:52 - INFO - __main__ - Lang: es - Fold: 0\n",
            "09/05/2021 02:47:53 - INFO - __main__ - Lang: es - Fold: 1\n",
            "09/05/2021 02:47:53 - INFO - __main__ - Lang: es - Fold: 2\n",
            "09/05/2021 02:47:53 - INFO - __main__ - Lang: es - Fold: 3\n",
            "09/05/2021 02:47:53 - INFO - __main__ - Lang: es - Fold: 4\n",
            "09/05/2021 02:47:53 - INFO - __main__ - Lang es: predict the mean.\n",
            "09/05/2021 02:47:53 - INFO - __main__ - Merge predictions into single file.\n",
            "09/05/2021 02:47:55 - INFO - __main__ - Prediction Done.\n"
          ]
        }
      ]
    },
    {
      "cell_type": "code",
      "metadata": {
        "id": "uyb3IPoi2oJT"
      },
      "source": [
        ""
      ],
      "execution_count": null,
      "outputs": []
    }
  ]
}