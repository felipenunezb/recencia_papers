{
  "nbformat": 4,
  "nbformat_minor": 0,
  "metadata": {
    "colab": {
      "name": "Recencia_FinalTest.ipynb",
      "provenance": [],
      "collapsed_sections": []
    },
    "kernelspec": {
      "name": "python3",
      "display_name": "Python 3"
    },
    "language_info": {
      "name": "python"
    },
    "accelerator": "GPU"
  },
  "cells": [
    {
      "cell_type": "code",
      "metadata": {
        "id": "npP94cHv7JBJ"
      },
      "source": [
        "%%capture\n",
        "!pip install catboost"
      ],
      "execution_count": 1,
      "outputs": []
    },
    {
      "cell_type": "code",
      "metadata": {
        "id": "WR-UkrAT7L4H"
      },
      "source": [
        "%%capture\n",
        "!pip install transformers"
      ],
      "execution_count": 2,
      "outputs": []
    },
    {
      "cell_type": "code",
      "metadata": {
        "colab": {
          "base_uri": "https://localhost:8080/"
        },
        "id": "o_zWKgdW7NgQ",
        "outputId": "5dd691b8-0170-40ae-8434-ea897cbfabee"
      },
      "source": [
        "%cd /content/\n",
        "!git clone https://github.com/felipenunezb/recencia_papers"
      ],
      "execution_count": 3,
      "outputs": [
        {
          "output_type": "stream",
          "name": "stdout",
          "text": [
            "/content\n",
            "Cloning into 'recencia_papers'...\n",
            "remote: Enumerating objects: 45, done.\u001b[K\n",
            "remote: Counting objects: 100% (45/45), done.\u001b[K\n",
            "remote: Compressing objects: 100% (32/32), done.\u001b[K\n",
            "remote: Total 45 (delta 19), reused 34 (delta 12), pack-reused 0\u001b[K\n",
            "Unpacking objects: 100% (45/45), done.\n"
          ]
        }
      ]
    },
    {
      "cell_type": "markdown",
      "metadata": {
        "id": "on0nnth96_A2"
      },
      "source": [
        "## Download Final Test File"
      ]
    },
    {
      "cell_type": "code",
      "metadata": {
        "id": "xx-MIuE-7DIE"
      },
      "source": [
        "%%capture\n",
        "!wget -O 'final_test.csv' 'https://www.datasource.ai/es/home/competitions/download_final/predecir-el-puntaje-de-recencia-en-papers-de-investigacion'"
      ],
      "execution_count": 4,
      "outputs": []
    },
    {
      "cell_type": "markdown",
      "metadata": {
        "id": "LzQkNduo_T1F"
      },
      "source": [
        "## Download Models"
      ]
    },
    {
      "cell_type": "code",
      "metadata": {
        "id": "zJ2xXuakBTh4"
      },
      "source": [
        "!mkdir /content/models;"
      ],
      "execution_count": 5,
      "outputs": []
    },
    {
      "cell_type": "code",
      "metadata": {
        "colab": {
          "base_uri": "https://localhost:8080/"
        },
        "id": "M_Jz4ArV_0GK",
        "outputId": "7de8b51b-259e-41b2-ef71-42f339412e98"
      },
      "source": [
        "!wget --no-check-certificate -O \"models.zip\" \"https://docs.google.com/uc?export=download&id=1CP_IMdiYYheBXq_cckBeSdnIrBgaXWaM\" "
      ],
      "execution_count": 6,
      "outputs": [
        {
          "output_type": "stream",
          "name": "stdout",
          "text": [
            "--2021-09-05 17:00:38--  https://docs.google.com/uc?export=download&id=1CP_IMdiYYheBXq_cckBeSdnIrBgaXWaM\n",
            "Resolving docs.google.com (docs.google.com)... 142.250.152.102, 142.250.152.139, 142.250.152.138, ...\n",
            "Connecting to docs.google.com (docs.google.com)|142.250.152.102|:443... connected.\n",
            "HTTP request sent, awaiting response... 302 Moved Temporarily\n",
            "Location: https://doc-10-9o-docs.googleusercontent.com/docs/securesc/ha0ro937gcuc7l7deffksulhg5h7mbp1/eai6e8659v9b8dd8g2d8ojua9rqc6fee/1630861200000/16941317536757364924/*/1CP_IMdiYYheBXq_cckBeSdnIrBgaXWaM?e=download [following]\n",
            "Warning: wildcards not supported in HTTP.\n",
            "--2021-09-05 17:00:40--  https://doc-10-9o-docs.googleusercontent.com/docs/securesc/ha0ro937gcuc7l7deffksulhg5h7mbp1/eai6e8659v9b8dd8g2d8ojua9rqc6fee/1630861200000/16941317536757364924/*/1CP_IMdiYYheBXq_cckBeSdnIrBgaXWaM?e=download\n",
            "Resolving doc-10-9o-docs.googleusercontent.com (doc-10-9o-docs.googleusercontent.com)... 142.251.6.132, 2607:f8b0:4001:c5a::84\n",
            "Connecting to doc-10-9o-docs.googleusercontent.com (doc-10-9o-docs.googleusercontent.com)|142.251.6.132|:443... connected.\n",
            "HTTP request sent, awaiting response... 200 OK\n",
            "Length: unspecified [application/zip]\n",
            "Saving to: ‘models.zip’\n",
            "\n",
            "models.zip              [ <=>                ]   3.01M  --.-KB/s    in 0.03s   \n",
            "\n",
            "2021-09-05 17:00:40 (94.6 MB/s) - ‘models.zip’ saved [3158912]\n",
            "\n"
          ]
        }
      ]
    },
    {
      "cell_type": "code",
      "metadata": {
        "colab": {
          "base_uri": "https://localhost:8080/"
        },
        "id": "nI1L5eMlM_dm",
        "outputId": "9ad8a1c6-e44d-453b-ae1e-458b2f3ba987"
      },
      "source": [
        "!unzip /content/models.zip -d /content/models"
      ],
      "execution_count": 7,
      "outputs": [
        {
          "output_type": "stream",
          "name": "stdout",
          "text": [
            "Archive:  /content/models.zip\n",
            "  inflating: /content/models/cat_en_0.cbm  \n",
            "  inflating: /content/models/cat_en_1.cbm  \n",
            "  inflating: /content/models/cat_en_2.cbm  \n",
            "  inflating: /content/models/cat_en_3.cbm  \n",
            "  inflating: /content/models/cat_en_4.cbm  \n",
            "  inflating: /content/models/cat_es_0.cbm  \n",
            "  inflating: /content/models/cat_es_1.cbm  \n",
            "  inflating: /content/models/cat_es_2.cbm  \n",
            "  inflating: /content/models/cat_es_3.cbm  \n",
            "  inflating: /content/models/cat_es_4.cbm  \n",
            "  inflating: /content/models/cat_pt_0.cbm  \n",
            "  inflating: /content/models/cat_pt_1.cbm  \n",
            "  inflating: /content/models/cat_pt_2.cbm  \n",
            "  inflating: /content/models/cat_pt_3.cbm  \n",
            "  inflating: /content/models/cat_pt_4.cbm  \n"
          ]
        }
      ]
    },
    {
      "cell_type": "markdown",
      "metadata": {
        "id": "D_dDZLn37cao"
      },
      "source": [
        "## Generate Embeddings"
      ]
    },
    {
      "cell_type": "code",
      "metadata": {
        "colab": {
          "base_uri": "https://localhost:8080/"
        },
        "id": "Fh2qfw_G7eJq",
        "outputId": "1b04b50f-664a-48f8-b4de-b07f6ee3dbeb"
      },
      "source": [
        "!python /content/recencia_papers/prepare_data.py \\\n",
        "  --input_file '/content/final_test.csv' \\\n",
        "  --max_length 250 \\\n",
        "  --output_dir '/content/embeddings/' \\\n",
        "  --do_predict"
      ],
      "execution_count": 8,
      "outputs": [
        {
          "output_type": "stream",
          "name": "stdout",
          "text": [
            "09/05/2021 17:00:47 - INFO - __main__ - reading and splitting languages.\n",
            "09/05/2021 17:00:47 - INFO - __main__ - Loading transformers models.\n",
            "09/05/2021 17:00:48 - INFO - __main__ - English\n",
            "09/05/2021 17:00:48 - INFO - filelock - Lock 140716103538640 acquired on /root/.cache/huggingface/transformers/42d6b7c87cbac84fcdf35aa69504a5ccfca878fcee2a1a9b9ff7a3d1297f9094.aa95727ac70adfa1aaf5c88bea30a4f5e50869c68e68bce96ef1ec41b5facf46.lock\n",
            "Downloading: 100% 480/480 [00:00<00:00, 416kB/s]\n",
            "09/05/2021 17:00:48 - INFO - filelock - Lock 140716103538640 released on /root/.cache/huggingface/transformers/42d6b7c87cbac84fcdf35aa69504a5ccfca878fcee2a1a9b9ff7a3d1297f9094.aa95727ac70adfa1aaf5c88bea30a4f5e50869c68e68bce96ef1ec41b5facf46.lock\n",
            "09/05/2021 17:00:48 - INFO - filelock - Lock 140716101232784 acquired on /root/.cache/huggingface/transformers/23e0f7484fc8a320856b168861166b48c2976bb4e0861602422e1b0c3fe5bf61.d67d6b367eb24ab43b08ad55e014cf254076934f71d832bbab9ad35644a375ab.lock\n",
            "Downloading: 100% 899k/899k [00:00<00:00, 6.37MB/s]\n",
            "09/05/2021 17:00:49 - INFO - filelock - Lock 140716101232784 released on /root/.cache/huggingface/transformers/23e0f7484fc8a320856b168861166b48c2976bb4e0861602422e1b0c3fe5bf61.d67d6b367eb24ab43b08ad55e014cf254076934f71d832bbab9ad35644a375ab.lock\n",
            "09/05/2021 17:00:49 - INFO - filelock - Lock 140716053469968 acquired on /root/.cache/huggingface/transformers/c7e8020011da613ff5a9175ddad64cd47238a9525db975eb50ecb965e9f7302f.5d12962c5ee615a4c803841266e9c3be9a691a924f72d395d3a6c6c81157788b.lock\n",
            "Downloading: 100% 456k/456k [00:00<00:00, 3.89MB/s]\n",
            "09/05/2021 17:00:49 - INFO - filelock - Lock 140716053469968 released on /root/.cache/huggingface/transformers/c7e8020011da613ff5a9175ddad64cd47238a9525db975eb50ecb965e9f7302f.5d12962c5ee615a4c803841266e9c3be9a691a924f72d395d3a6c6c81157788b.lock\n",
            "09/05/2021 17:00:49 - INFO - filelock - Lock 140716050156112 acquired on /root/.cache/huggingface/transformers/b6a9ca6504e67903474c3fdf82ba249882406e61c2176a9d4dc9c3691c663767.fc9576039592f026ad76a1c231b89aee8668488c671dfbe6616bab2ed298d730.lock\n",
            "Downloading: 100% 1.36M/1.36M [00:00<00:00, 7.64MB/s]\n",
            "09/05/2021 17:00:49 - INFO - filelock - Lock 140716050156112 released on /root/.cache/huggingface/transformers/b6a9ca6504e67903474c3fdf82ba249882406e61c2176a9d4dc9c3691c663767.fc9576039592f026ad76a1c231b89aee8668488c671dfbe6616bab2ed298d730.lock\n",
            "09/05/2021 17:00:50 - INFO - filelock - Lock 140716049694608 acquired on /root/.cache/huggingface/transformers/7a0115a4c463f49bc7ab011872fc4a4b81be681a0434075955d29ac3388e225b.a6127d76576e81475313180aceb31a8688f7a649b80e380d26b5d30302dc83c1.lock\n",
            "Downloading: 100% 331M/331M [00:08<00:00, 37.1MB/s]\n",
            "09/05/2021 17:00:59 - INFO - filelock - Lock 140716049694608 released on /root/.cache/huggingface/transformers/7a0115a4c463f49bc7ab011872fc4a4b81be681a0434075955d29ac3388e225b.a6127d76576e81475313180aceb31a8688f7a649b80e380d26b5d30302dc83c1.lock\n",
            "Some weights of the model checkpoint at distilroberta-base were not used when initializing RobertaModel: ['lm_head.layer_norm.weight', 'lm_head.dense.bias', 'lm_head.dense.weight', 'lm_head.decoder.weight', 'lm_head.layer_norm.bias', 'lm_head.bias']\n",
            "- This IS expected if you are initializing RobertaModel from the checkpoint of a model trained on another task or with another architecture (e.g. initializing a BertForSequenceClassification model from a BertForPreTraining model).\n",
            "- This IS NOT expected if you are initializing RobertaModel from the checkpoint of a model that you expect to be exactly identical (initializing a BertForSequenceClassification model from a BertForSequenceClassification model).\n",
            "100% 9227/9227 [04:11<00:00, 36.73it/s]\n",
            "09/05/2021 17:05:12 - INFO - __main__ - Portuguese\n",
            "09/05/2021 17:05:12 - INFO - filelock - Lock 140716103494736 acquired on /root/.cache/huggingface/transformers/f1a9ba41d40e8c6f5ba4988aa2f7702c3b43768183e4b82483e04f2848841ecf.a6c00251b9344c189e2419373d6033016d0cd3d87ea59f6c86069046ac81956d.lock\n",
            "Downloading: 100% 43.0/43.0 [00:00<00:00, 41.5kB/s]\n",
            "09/05/2021 17:05:12 - INFO - filelock - Lock 140716103494736 released on /root/.cache/huggingface/transformers/f1a9ba41d40e8c6f5ba4988aa2f7702c3b43768183e4b82483e04f2848841ecf.a6c00251b9344c189e2419373d6033016d0cd3d87ea59f6c86069046ac81956d.lock\n",
            "09/05/2021 17:05:12 - INFO - filelock - Lock 140716049488272 acquired on /root/.cache/huggingface/transformers/e716e2151985ba669e7197b64cdde2552acee146494d40ffaf0688a3f152e6ed.18a0b8b86f3ebd4c8a1d8d6199178feae9971ff5420f1d12f0ed8326ffdff716.lock\n",
            "Downloading: 100% 647/647 [00:00<00:00, 679kB/s]\n",
            "09/05/2021 17:05:12 - INFO - filelock - Lock 140716049488272 released on /root/.cache/huggingface/transformers/e716e2151985ba669e7197b64cdde2552acee146494d40ffaf0688a3f152e6ed.18a0b8b86f3ebd4c8a1d8d6199178feae9971ff5420f1d12f0ed8326ffdff716.lock\n",
            "09/05/2021 17:05:13 - INFO - filelock - Lock 140716035150544 acquired on /root/.cache/huggingface/transformers/aa6d50227b77416b26162efcf0cc9e9a702d13920840322060a2b41a44a8aff4.af25fb1e29ad0175300146695fd80069be69b211c52fa5486fa8aae2754cc814.lock\n",
            "Downloading: 100% 210k/210k [00:00<00:00, 1.81MB/s]\n",
            "09/05/2021 17:05:13 - INFO - filelock - Lock 140716035150544 released on /root/.cache/huggingface/transformers/aa6d50227b77416b26162efcf0cc9e9a702d13920840322060a2b41a44a8aff4.af25fb1e29ad0175300146695fd80069be69b211c52fa5486fa8aae2754cc814.lock\n",
            "09/05/2021 17:05:13 - INFO - filelock - Lock 140716035150352 acquired on /root/.cache/huggingface/transformers/9188d297517828a862f4e0b0700968574ca7ad38fbc0832c409bf7a9e5576b74.5cc6e825eb228a7a5cfd27cb4d7151e97a79fb962b31aaf1813aa102e746584b.lock\n",
            "Downloading: 100% 2.00/2.00 [00:00<00:00, 1.76kB/s]\n",
            "09/05/2021 17:05:13 - INFO - filelock - Lock 140716035150352 released on /root/.cache/huggingface/transformers/9188d297517828a862f4e0b0700968574ca7ad38fbc0832c409bf7a9e5576b74.5cc6e825eb228a7a5cfd27cb4d7151e97a79fb962b31aaf1813aa102e746584b.lock\n",
            "09/05/2021 17:05:13 - INFO - filelock - Lock 140716035152016 acquired on /root/.cache/huggingface/transformers/eecc45187d085a1169eed91017d358cc0e9cbdd5dc236bcd710059dbf0a2f816.dd8bd9bfd3664b530ea4e645105f557769387b3da9f79bdb55ed556bdd80611d.lock\n",
            "Downloading: 100% 112/112 [00:00<00:00, 113kB/s]\n",
            "09/05/2021 17:05:13 - INFO - filelock - Lock 140716035152016 released on /root/.cache/huggingface/transformers/eecc45187d085a1169eed91017d358cc0e9cbdd5dc236bcd710059dbf0a2f816.dd8bd9bfd3664b530ea4e645105f557769387b3da9f79bdb55ed556bdd80611d.lock\n",
            "09/05/2021 17:05:14 - INFO - filelock - Lock 140716112229904 acquired on /root/.cache/huggingface/transformers/1e42c907c340c902923496246dae63e33f64955c529720991b7ec5543a98e442.fa492fca6dcee85bef053cc60912a211feb1f7173129e4eb1a5164e817f2f5f2.lock\n",
            "Downloading: 100% 438M/438M [00:12<00:00, 36.3MB/s]\n",
            "09/05/2021 17:05:27 - INFO - filelock - Lock 140716112229904 released on /root/.cache/huggingface/transformers/1e42c907c340c902923496246dae63e33f64955c529720991b7ec5543a98e442.fa492fca6dcee85bef053cc60912a211feb1f7173129e4eb1a5164e817f2f5f2.lock\n",
            "Some weights of the model checkpoint at neuralmind/bert-base-portuguese-cased were not used when initializing BertModel: ['cls.predictions.transform.LayerNorm.bias', 'cls.predictions.transform.dense.bias', 'cls.seq_relationship.weight', 'cls.predictions.decoder.weight', 'cls.predictions.transform.LayerNorm.weight', 'cls.predictions.bias', 'cls.seq_relationship.bias', 'cls.predictions.transform.dense.weight']\n",
            "- This IS expected if you are initializing BertModel from the checkpoint of a model trained on another task or with another architecture (e.g. initializing a BertForSequenceClassification model from a BertForPreTraining model).\n",
            "- This IS NOT expected if you are initializing BertModel from the checkpoint of a model that you expect to be exactly identical (initializing a BertForSequenceClassification model from a BertForSequenceClassification model).\n",
            "100% 821/821 [00:42<00:00, 19.37it/s]\n",
            "09/05/2021 17:06:10 - INFO - __main__ - Spanish\n",
            "09/05/2021 17:06:10 - INFO - filelock - Lock 140716048055056 acquired on /root/.cache/huggingface/transformers/ca34e6c1251888a8ed98da2a454f869d28e3438eef67c2f93aa8133459ac08a3.0e90f656d0426b15b4927d1fe8ca5ec4c2e7b0d0e878c9153c3ddc6ed9bbed3c.lock\n",
            "Downloading: 100% 364/364 [00:00<00:00, 292kB/s]\n",
            "09/05/2021 17:06:10 - INFO - filelock - Lock 140716048055056 released on /root/.cache/huggingface/transformers/ca34e6c1251888a8ed98da2a454f869d28e3438eef67c2f93aa8133459ac08a3.0e90f656d0426b15b4927d1fe8ca5ec4c2e7b0d0e878c9153c3ddc6ed9bbed3c.lock\n",
            "09/05/2021 17:06:11 - INFO - filelock - Lock 140716049086032 acquired on /root/.cache/huggingface/transformers/cb7cedb04246e225d56ba26d207f1d1809b31a9bbe9b63103371d835c6ac0502.f4e4777229bac528fa2a8d4833e2ef53624e985ebde0fd527064a5cc7c50832b.lock\n",
            "Downloading: 100% 648/648 [00:00<00:00, 697kB/s]\n",
            "09/05/2021 17:06:11 - INFO - filelock - Lock 140716049086032 released on /root/.cache/huggingface/transformers/cb7cedb04246e225d56ba26d207f1d1809b31a9bbe9b63103371d835c6ac0502.f4e4777229bac528fa2a8d4833e2ef53624e985ebde0fd527064a5cc7c50832b.lock\n",
            "09/05/2021 17:06:11 - INFO - filelock - Lock 140716048056016 acquired on /root/.cache/huggingface/transformers/6761cd0c3d282272f598fcc1fa8c4ecfff8c18762ec8acb40f9cbb562cb0901e.6587bde86239957281af55b2f7e564df111a2b4f9dfc0ad884f13ea7106e4dfb.lock\n",
            "Downloading: 100% 242k/242k [00:00<00:00, 2.92MB/s]\n",
            "09/05/2021 17:06:11 - INFO - filelock - Lock 140716048056016 released on /root/.cache/huggingface/transformers/6761cd0c3d282272f598fcc1fa8c4ecfff8c18762ec8acb40f9cbb562cb0901e.6587bde86239957281af55b2f7e564df111a2b4f9dfc0ad884f13ea7106e4dfb.lock\n",
            "09/05/2021 17:06:11 - INFO - filelock - Lock 140716049083152 acquired on /root/.cache/huggingface/transformers/44de7af89c157bf67367a71105165d92bebe0585543739a918e3870d25484c27.6a099cd4b12bf7db174fffe48b004eb919c325f108e0c36176a0fe0ad1848d31.lock\n",
            "Downloading: 100% 480k/480k [00:00<00:00, 4.24MB/s]\n",
            "09/05/2021 17:06:12 - INFO - filelock - Lock 140716049083152 released on /root/.cache/huggingface/transformers/44de7af89c157bf67367a71105165d92bebe0585543739a918e3870d25484c27.6a099cd4b12bf7db174fffe48b004eb919c325f108e0c36176a0fe0ad1848d31.lock\n",
            "09/05/2021 17:06:12 - INFO - filelock - Lock 140716049080720 acquired on /root/.cache/huggingface/transformers/9848a00af462c42dfb4ec88ef438fbab5256330f7f6f50badc48d277f9367d49.f982506b52498d4adb4bd491f593dc92b2ef6be61bfdbe9d30f53f963f9f5b66.lock\n",
            "Downloading: 100% 134/134 [00:00<00:00, 150kB/s]\n",
            "09/05/2021 17:06:12 - INFO - filelock - Lock 140716049080720 released on /root/.cache/huggingface/transformers/9848a00af462c42dfb4ec88ef438fbab5256330f7f6f50badc48d277f9367d49.f982506b52498d4adb4bd491f593dc92b2ef6be61bfdbe9d30f53f963f9f5b66.lock\n",
            "09/05/2021 17:06:12 - INFO - filelock - Lock 140716049485968 acquired on /root/.cache/huggingface/transformers/52382cbe7c1587c6b588daa81eaf247c5e2ad073d42b52192a8cd4202e7429b6.a88ccd19b1f271e63b6a901510804e6c0318089355c471334fe8b71b316a30ab.lock\n",
            "Downloading: 100% 440M/440M [00:12<00:00, 36.1MB/s]\n",
            "09/05/2021 17:06:25 - INFO - filelock - Lock 140716049485968 released on /root/.cache/huggingface/transformers/52382cbe7c1587c6b588daa81eaf247c5e2ad073d42b52192a8cd4202e7429b6.a88ccd19b1f271e63b6a901510804e6c0318089355c471334fe8b71b316a30ab.lock\n",
            "Some weights of the model checkpoint at dccuchile/bert-base-spanish-wwm-cased were not used when initializing BertModel: ['cls.predictions.transform.LayerNorm.bias', 'cls.predictions.transform.dense.bias', 'cls.predictions.decoder.bias', 'cls.predictions.decoder.weight', 'cls.predictions.transform.LayerNorm.weight', 'cls.predictions.bias', 'cls.predictions.transform.dense.weight']\n",
            "- This IS expected if you are initializing BertModel from the checkpoint of a model trained on another task or with another architecture (e.g. initializing a BertForSequenceClassification model from a BertForPreTraining model).\n",
            "- This IS NOT expected if you are initializing BertModel from the checkpoint of a model that you expect to be exactly identical (initializing a BertForSequenceClassification model from a BertForSequenceClassification model).\n",
            "Some weights of BertModel were not initialized from the model checkpoint at dccuchile/bert-base-spanish-wwm-cased and are newly initialized: ['bert.pooler.dense.bias', 'bert.pooler.dense.weight']\n",
            "You should probably TRAIN this model on a down-stream task to be able to use it for predictions and inference.\n",
            "100% 680/680 [00:34<00:00, 19.45it/s]\n",
            "09/05/2021 17:07:01 - INFO - __main__ - Embeddings done.\n"
          ]
        }
      ]
    },
    {
      "cell_type": "markdown",
      "metadata": {
        "id": "EE8wU70F7jTf"
      },
      "source": [
        "## Predict"
      ]
    },
    {
      "cell_type": "code",
      "metadata": {
        "colab": {
          "base_uri": "https://localhost:8080/"
        },
        "id": "OgxT78pB7k_W",
        "outputId": "2f7f51bc-3067-4b39-b461-865bc1859a38"
      },
      "source": [
        "!python /content/recencia_papers/predict.py \\\n",
        "  --input_file '/content/final_test.csv' \\\n",
        "  --emb_folder '/content/embeddings/' \\\n",
        "  --models_folder '/content/models/' \\\n",
        "  --output_dir '/content/predictions/' \\\n",
        "  --do_predict"
      ],
      "execution_count": 9,
      "outputs": [
        {
          "output_type": "stream",
          "name": "stdout",
          "text": [
            "09/05/2021 17:07:03 - INFO - __main__ - Training\n",
            "09/05/2021 17:07:03 - INFO - __main__ - Predicting on: en data.\n",
            "09/05/2021 17:07:03 - INFO - __main__ - Lang: en - Fold: 0\n",
            "09/05/2021 17:07:06 - INFO - __main__ - Lang: en - Fold: 1\n",
            "09/05/2021 17:07:09 - INFO - __main__ - Lang: en - Fold: 2\n",
            "09/05/2021 17:07:11 - INFO - __main__ - Lang: en - Fold: 3\n",
            "09/05/2021 17:07:14 - INFO - __main__ - Lang: en - Fold: 4\n",
            "09/05/2021 17:07:17 - INFO - __main__ - Lang en: predict the mean.\n",
            "09/05/2021 17:07:17 - INFO - __main__ - Predicting on: pt data.\n",
            "09/05/2021 17:07:17 - INFO - __main__ - Lang: pt - Fold: 0\n",
            "09/05/2021 17:07:17 - INFO - __main__ - Lang: pt - Fold: 1\n",
            "09/05/2021 17:07:17 - INFO - __main__ - Lang: pt - Fold: 2\n",
            "09/05/2021 17:07:18 - INFO - __main__ - Lang: pt - Fold: 3\n",
            "09/05/2021 17:07:18 - INFO - __main__ - Lang: pt - Fold: 4\n",
            "09/05/2021 17:07:18 - INFO - __main__ - Lang pt: predict the mean.\n",
            "09/05/2021 17:07:18 - INFO - __main__ - Predicting on: es data.\n",
            "09/05/2021 17:07:18 - INFO - __main__ - Lang: es - Fold: 0\n",
            "09/05/2021 17:07:18 - INFO - __main__ - Lang: es - Fold: 1\n",
            "09/05/2021 17:07:19 - INFO - __main__ - Lang: es - Fold: 2\n",
            "09/05/2021 17:07:19 - INFO - __main__ - Lang: es - Fold: 3\n",
            "09/05/2021 17:07:19 - INFO - __main__ - Lang: es - Fold: 4\n",
            "09/05/2021 17:07:19 - INFO - __main__ - Lang es: predict the mean.\n",
            "09/05/2021 17:07:19 - INFO - __main__ - Merge predictions into single file.\n",
            "09/05/2021 17:07:21 - INFO - __main__ - Prediction Done.\n"
          ]
        }
      ]
    },
    {
      "cell_type": "code",
      "metadata": {
        "id": "iTfvggA9QIQC"
      },
      "source": [
        ""
      ],
      "execution_count": 9,
      "outputs": []
    }
  ]
}